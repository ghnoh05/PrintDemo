{
 "cells": [
  {
   "cell_type": "markdown",
   "id": "21007520",
   "metadata": {},
   "source": [
    "# 이것은 print 예제입니다."
   ]
  },
  {
   "cell_type": "code",
   "execution_count": 6,
   "id": "2cb55244",
   "metadata": {},
   "outputs": [
    {
     "name": "stdout",
     "output_type": "stream",
     "text": [
      "Hello, Python!\n",
      "Name: Alice Age: 25 Score: 95.5\n",
      "My name is Alice, I am 25 years old, score: 95.5\n",
      "My name is Alice, I am 25 years old, score: 95.5\n",
      "My name is Alice, age 25, score95.5\n",
      "Score with 2 decimals: 95.50\n",
      "Name: Alice, Age: 25, Score 95.5\n",
      "This is line 1\n",
      "This is line 2\n",
      "Hello World!\n",
      "2025-09-23\n",
      "Data: {'name': 'Alice', 'age': 25, 'score': 95.5}\n",
      "Nest year age: 26\n",
      "Score (rounded): 96\n",
      "\n",
      "Student Info:\n",
      " - Name : Alice\n",
      " - Age  : 25\n",
      " - Score: 95.50\n",
      "\n"
     ]
    }
   ],
   "source": [
    "# 변수 선언\n",
    "name = \"Alice\"\n",
    "age = 25\n",
    "score = 95.5\n",
    "\n",
    "# 1. 기본 출력\n",
    "print(\"Hello, Python!\")\n",
    "\n",
    "# 2. 여러 값 출력\n",
    "print(\"Name:\", name, \"Age:\", age, \"Score:\", score)\n",
    "\n",
    "# 3. f-string\n",
    "print(f\"My name is {name}, I am {age} years old, score: {score}\")\n",
    "\n",
    "# 4. format() 함수\n",
    "print(\"My name is {}, I am {} years old, score: {}\".format(name, age, score))\n",
    "print(\"My name is {0}, age {1}, score{2}\".format(name, age, score))\n",
    "print(\"Score with 2 decimals: {:.2f}\".format(score))\n",
    "\n",
    "# 5. % 포맷팅 (C 스타일, 옛날 방식)\n",
    "print(\"Name: %s, Age: %d, Score %.1f\" % (name, age, score))\n",
    "\n",
    "# 6. 여러 줄 출력 (줄바꿈 포함)\n",
    "print(\"This is line 1\\nThis is line 2\")\n",
    "\n",
    "# 7. end 옵션 (기본값은 줄바꿈 '\\n')\n",
    "print(\"Hello\", end=\" \")\n",
    "print(\"World!\")\n",
    "\n",
    "# 8. sep 옵션 (기본값은 공백 ' ')\n",
    "print(\"2025\", \"09\", \"23\", sep=\"-\")\n",
    "\n",
    "# 9. 딕셔너리/리스트 같이 출력\n",
    "data = {\"name\": name, \"age\": age, \"score\": score}\n",
    "print(\"Data:\", data)\n",
    "\n",
    "# 10.\n",
    "print(f\"Nest year age: {age + 1}\")\n",
    "print(f\"Score (rounded): {round(score)}\")\n",
    "\n",
    "#11.\n",
    "print(f\"\"\"\n",
    "Student Info:\n",
    " - Name : {name}\n",
    " - Age  : {age}\n",
    " - Score: {score:.2f}\n",
    "\"\"\")"
   ]
  }
 ],
 "metadata": {
  "kernelspec": {
   "display_name": "Python 3",
   "language": "python",
   "name": "python3"
  },
  "language_info": {
   "codemirror_mode": {
    "name": "ipython",
    "version": 3
   },
   "file_extension": ".py",
   "mimetype": "text/x-python",
   "name": "python",
   "nbconvert_exporter": "python",
   "pygments_lexer": "ipython3",
   "version": "3.13.7"
  }
 },
 "nbformat": 4,
 "nbformat_minor": 5
}
